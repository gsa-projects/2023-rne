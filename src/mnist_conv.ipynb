{
 "cells": [
  {
   "cell_type": "code",
   "execution_count": 1,
   "metadata": {},
   "outputs": [],
   "source": [
    "import torch\n",
    "import torch.nn as nn\n",
    "import torch.optim as optim\n",
    "from torch.utils.data import DataLoader, Dataset\n",
    "import matplotlib.pyplot as plt\n",
    "import pandas as pd\n",
    "import numpy as np\n",
    "from os import path\n",
    "from dataclasses import dataclass"
   ]
  },
  {
   "cell_type": "code",
   "execution_count": 2,
   "metadata": {},
   "outputs": [
    {
     "name": "stdout",
     "output_type": "stream",
     "text": [
      "다음 device로 학습합니다: cpu\n"
     ]
    }
   ],
   "source": [
    "plt.rc('font', family='Pretendard')\n",
    "device = torch.device(\"cuda\" if torch.cuda.is_available() else \"cpu\")\n",
    "preview_count = 10\n",
    "batch_size = 100\n",
    "output_classes = 10\n",
    "lr = 0.01\n",
    "epochs = 20\n",
    "\n",
    "print(f\"다음 device로 학습합니다: {device}\")"
   ]
  },
  {
   "cell_type": "code",
   "execution_count": 3,
   "metadata": {},
   "outputs": [],
   "source": [
    "class MNISTDataset(Dataset):\n",
    "    def __init__(self, dataset_path: str):\n",
    "        df = pd.read_csv(dataset_path)\n",
    "\n",
    "        self.X = torch.Tensor(df.drop(columns=['label']).values).reshape((-1, 1, 28, 28)).to(device)\n",
    "        self.Y = torch.LongTensor(df['label']).to(device)\n",
    "\n",
    "    def __len__(self):\n",
    "        return len(self.X)\n",
    "\n",
    "    def __getitem__(self, idx) -> tuple:\n",
    "        return self.X[idx], self.Y[idx].item()\n",
    "\n",
    "    @property\n",
    "    def shape(self):\n",
    "        return self.X.shape, self.Y.shape\n",
    "\n",
    "    @property\n",
    "    def data_shape(self):\n",
    "        return self.X.shape[1:]"
   ]
  },
  {
   "cell_type": "code",
   "execution_count": 5,
   "metadata": {},
   "outputs": [
    {
     "name": "stdout",
     "output_type": "stream",
     "text": [
      "(torch.Size([60000, 1, 28, 28]), torch.Size([60000]))\n",
      "torch.Size([1, 28, 28])\n",
      "(torch.Size([10000, 1, 28, 28]), torch.Size([10000]))\n",
      "torch.Size([1, 28, 28])\n"
     ]
    }
   ],
   "source": [
    "mnist_train = MNISTDataset(\"../data/mnist_train.csv\")\n",
    "print(mnist_train.shape)\n",
    "print(mnist_train.data_shape)\n",
    "\n",
    "mnist_test = MNISTDataset(\"../data/mnist_test.csv\")\n",
    "print(mnist_test.shape)\n",
    "print(mnist_test.data_shape)"
   ]
  },
  {
   "cell_type": "code",
   "execution_count": 6,
   "metadata": {},
   "outputs": [
    {
     "data": {
      "image/png": "[encoded data removed]",
      "text/plain": [
       "<Figure size 600x200 with 20 Axes>"
      ]
     },
     "metadata": {},
     "output_type": "display_data"
    }
   ],
   "source": [
    "fig, axis = plt.subplots(2, preview_count, figsize=(6, 2))\n",
    "\n",
    "for i in range(preview_count):\n",
    "    ith_data = mnist_train[i]\n",
    "\n",
    "    axis[0, i].set_axis_off()\n",
    "    axis[0, i].imshow(ith_data[0].cpu().view((28, 28)), cmap='gray_r')\n",
    "    axis[0, i].set_title(ith_data[1])\n",
    "\n",
    "for i in range(preview_count):\n",
    "    ith_data = mnist_test[i]\n",
    "\n",
    "    axis[1, i].set_axis_off()\n",
    "    axis[1, i].imshow(ith_data[0].cpu().view((28, 28)), cmap='gray_r')\n",
    "    axis[1, i].set_title(ith_data[1])"
   ]
  },
  {
   "cell_type": "code",
   "execution_count": 10,
   "metadata": {},
   "outputs": [],
   "source": [
    "data_loader = DataLoader(\n",
    "    dataset=mnist_train,\n",
    "    batch_size=batch_size,\n",
    "    shuffle=True,\n",
    "    drop_last=True\n",
    ")\n",
    "\n",
    "model = nn.Sequential(\n",
    "    # [batch 1 28 28] -> [batch 32 28 28]\n",
    "    nn.Conv2d(in_channels=1, out_channels=32, kernel_size=3, stride=1, padding=1),\n",
    "    nn.ReLU(),\n",
    "    # [batch 32 28 28] -> [batch 32 14 14]\n",
    "    nn.MaxPool2d(kernel_size=2, stride=2),\n",
    "\n",
    "    # [batch 32 14 14] -> [batch 64 14 14]\n",
    "    nn.Conv2d(in_channels=32, out_channels=64, kernel_size=3, stride=1, padding=1),\n",
    "    nn.ReLU(),\n",
    "    # [batch 64 14 14] -> [batch 64 7 7]\n",
    "    nn.MaxPool2d(kernel_size=2, stride=2),\n",
    "\n",
    "    # [batch 64 7 7] -> [batch 64*7*7]\n",
    "    nn.Flatten(1, 3),\n",
    "\n",
    "    # [batch 64*7*7] -> [batch 10]\n",
    "    nn.Linear(64*7*7, output_classes),\n",
    "\n",
    "    nn.Softmax(dim=1).float()\n",
    ").to(device)\n",
    "\n",
    "cost = nn.CrossEntropyLoss().to(device)\n",
    "optimizer = optim.Adam(model.parameters(), lr=lr)"
   ]
  },
  {
   "cell_type": "code",
   "execution_count": 11,
   "metadata": {},
   "outputs": [
    {
     "data": {
      "text/plain": [
       "torch.Size([100, 1, 28, 28])"
      ]
     },
     "execution_count": 11,
     "metadata": {},
     "output_type": "execute_result"
    }
   ],
   "source": [
    "next(iter(data_loader))[0].shape"
   ]
  },
  {
   "cell_type": "code",
   "execution_count": 12,
   "metadata": {},
   "outputs": [
    {
     "name": "stdout",
     "output_type": "stream",
     "text": [
      "Epoch 01/20, cost = 14.092619895935059\n",
      "Epoch 02/20, cost = 14.092720031738281\n",
      "Epoch 03/20, cost = 14.092720985412598\n",
      "Epoch 04/20, cost = 14.0927152633667\n",
      "Epoch 05/20, cost = 14.092713356018066\n",
      "Epoch 06/20, cost = 14.092721939086914\n",
      "Epoch 07/20, cost = 14.092718124389648\n",
      "Epoch 08/20, cost = 14.092717170715332\n",
      "Epoch 09/20, cost = 14.09271240234375\n",
      "Epoch 10/20, cost = 14.092718124389648\n",
      "Epoch 11/20, cost = 14.092703819274902\n",
      "Epoch 12/20, cost = 14.0927152633667\n",
      "Epoch 13/20, cost = 14.092708587646484\n",
      "Epoch 14/20, cost = 14.092711448669434\n",
      "Epoch 15/20, cost = 14.0927152633667\n",
      "Epoch 16/20, cost = 14.0927152633667\n",
      "Epoch 17/20, cost = 14.092713356018066\n",
      "Epoch 18/20, cost = 14.092708587646484\n",
      "Epoch 19/20, cost = 14.092721939086914\n",
      "Epoch 20/20, cost = 14.092711448669434\n"
     ]
    }
   ],
   "source": [
    "for epoch in range(epochs):\n",
    "    average_cost_of_batch = 0.0\n",
    "\n",
    "    for X, Y in data_loader:    # iterate for batch_size\n",
    "        X = X.to(device)\n",
    "        Y = Y.to(device)\n",
    "\n",
    "        optimizer.zero_grad()\n",
    "\n",
    "        predicted = model(X).to(device)\n",
    "        current_cost = cost(predicted, Y)\n",
    "\n",
    "        current_cost.backward()\n",
    "        optimizer.step()\n",
    "\n",
    "        average_cost_of_batch += current_cost\n",
    "\n",
    "    print(f\"Epoch {epoch + 1:02}/{epochs}, cost = {average_cost_of_batch / batch_size}\")"
   ]
  },
  {
   "cell_type": "code",
   "execution_count": 13,
   "metadata": {},
   "outputs": [
    {
     "name": "stdout",
     "output_type": "stream",
     "text": [
      "model accuracy: 11.35%\n"
     ]
    },
    {
     "data": {
      "image/png": "[encoded data removed]",
      "text/plain": [
       "<Figure size 600x100 with 10 Axes>"
      ]
     },
     "metadata": {},
     "output_type": "display_data"
    }
   ],
   "source": [
    "with torch.no_grad():\n",
    "    X_test = mnist_test.X\n",
    "    Y_test = mnist_test.Y\n",
    "\n",
    "    predicted = torch.argmax(model(X_test), dim=1)\n",
    "    is_correct = (predicted == Y_test)\n",
    "\n",
    "    print(f\"model accuracy: {is_correct.float().mean() * 100:.2f}%\")\n",
    "\n",
    "    fig, axis = plt.subplots(1, preview_count, figsize=(6, 1))\n",
    "\n",
    "    for i in range(preview_count):\n",
    "        ith_data = mnist_test[i]\n",
    "\n",
    "        axis[i].set_axis_off()\n",
    "        axis[i].imshow(ith_data[0].cpu().view((28, 28)), cmap='gray_r')\n",
    "        axis[i].set_title(f'P {predicted[i].item()}\\nY {ith_data[1]}',\n",
    "                          color=('green' if predicted[i].item() == ith_data[1] else 'red'))"
   ]
  },
  {
   "cell_type": "code",
   "execution_count": null,
   "metadata": {},
   "outputs": [],
   "source": []
  }
 ],
 "metadata": {
  "kernelspec": {
   "display_name": "Python 3",
   "language": "python",
   "name": "python3"
  },
  "language_info": {
   "codemirror_mode": {
    "name": "ipython",
    "version": 3
   },
   "file_extension": ".py",
   "mimetype": "text/x-python",
   "name": "python",
   "nbconvert_exporter": "python",
   "pygments_lexer": "ipython3",
   "version": "3.11.4"
  },
  "orig_nbformat": 4
 },
 "nbformat": 4,
 "nbformat_minor": 2
}
