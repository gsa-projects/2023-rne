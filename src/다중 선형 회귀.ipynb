{
 "cells": [
  {
   "cell_type": "code",
   "execution_count": 71,
   "metadata": {},
   "outputs": [],
   "source": [
    "import torch\n",
    "import torch.nn as nn\n",
    "import torch.nn.functional as F\n",
    "import torch.optim as optim"
   ]
  },
  {
   "cell_type": "code",
   "execution_count": 72,
   "metadata": {},
   "outputs": [
    {
     "data": {
      "text/plain": [
       "<torch._C.Generator at 0x17d94c4ea50>"
      ]
     },
     "execution_count": 72,
     "metadata": {},
     "output_type": "execute_result"
    }
   ],
   "source": [
    "torch.manual_seed(1)"
   ]
  },
  {
   "cell_type": "code",
   "execution_count": 73,
   "metadata": {},
   "outputs": [],
   "source": [
    "x1_train = torch.FloatTensor([1, 2, 3, 4])\n",
    "x2_train = torch.FloatTensor([2, 4, 6, 8])\n",
    "x3_train = torch.FloatTensor([2, 3, 4, 5])\n",
    "y_train = torch.FloatTensor([6, 10, 14, 18])\n",
    "# y = x1 + x2 + x3 + 1"
   ]
  },
  {
   "cell_type": "code",
   "execution_count": 74,
   "metadata": {},
   "outputs": [],
   "source": [
    "W1 = torch.zeros((), requires_grad=True)\n",
    "W2 = torch.zeros((), requires_grad=True)\n",
    "W3 = torch.zeros((), requires_grad=True)\n",
    "b = torch.zeros((), requires_grad=True)"
   ]
  },
  {
   "cell_type": "code",
   "execution_count": 75,
   "metadata": {},
   "outputs": [],
   "source": [
    "def H(x1, x2, x3, W1=W1, W2=W2, W3=W3, b=b):\n",
    "    return W1 * x1 + W2 * x2 + W3 * x3 + b"
   ]
  },
  {
   "cell_type": "code",
   "execution_count": 76,
   "metadata": {},
   "outputs": [],
   "source": [
    "def cost(W1, W2, W3, b):\n",
    "    n = len(y_train)\n",
    "    ret = 0\n",
    "\n",
    "    for i in range(n):\n",
    "        ret += (y_train[i] - H(x1_train[i], x2_train[i], x3_train[i], W1, W2, W3, b)) ** 2\n",
    "\n",
    "    return ret / n"
   ]
  },
  {
   "cell_type": "code",
   "execution_count": 77,
   "metadata": {},
   "outputs": [
    {
     "name": "stdout",
     "output_type": "stream",
     "text": [
      "epoch: 1000/10000, cost: 0.0000\n",
      "H(x1, x2, x3) = 0.5461 x1 + 1.0922 x2 + 1.2710 x3 + 0.7249\n",
      "\n",
      "epoch: 2000/10000, cost: 0.0000\n",
      "H(x1, x2, x3) = 0.5455 x1 + 1.0909 x2 + 1.2727 x3 + 0.7273\n",
      "\n",
      "epoch: 3000/10000, cost: 0.0000\n",
      "H(x1, x2, x3) = 0.5455 x1 + 1.0909 x2 + 1.2727 x3 + 0.7273\n",
      "\n",
      "epoch: 4000/10000, cost: 0.0000\n",
      "H(x1, x2, x3) = 0.5455 x1 + 1.0909 x2 + 1.2727 x3 + 0.7273\n",
      "\n",
      "epoch: 5000/10000, cost: 0.0000\n",
      "H(x1, x2, x3) = 0.5455 x1 + 1.0909 x2 + 1.2727 x3 + 0.7273\n",
      "\n",
      "epoch: 6000/10000, cost: 0.0000\n",
      "H(x1, x2, x3) = 0.5455 x1 + 1.0909 x2 + 1.2727 x3 + 0.7273\n",
      "\n",
      "epoch: 7000/10000, cost: 0.0000\n",
      "H(x1, x2, x3) = 0.5455 x1 + 1.0909 x2 + 1.2727 x3 + 0.7273\n",
      "\n",
      "epoch: 8000/10000, cost: 0.0000\n",
      "H(x1, x2, x3) = 0.5455 x1 + 1.0909 x2 + 1.2727 x3 + 0.7273\n",
      "\n",
      "epoch: 9000/10000, cost: 0.0000\n",
      "H(x1, x2, x3) = 0.5455 x1 + 1.0909 x2 + 1.2727 x3 + 0.7273\n",
      "\n",
      "epoch: 10000/10000, cost: 0.0000\n",
      "H(x1, x2, x3) = 0.5455 x1 + 1.0909 x2 + 1.2727 x3 + 0.7273\n",
      "\n"
     ]
    }
   ],
   "source": [
    "epochs = 10000\n",
    "lr = 0.01\n",
    "\n",
    "for epoch in range(1, epochs + 1):\n",
    "    grad_results = torch.autograd.grad(cost(W1, W2, W3, b), (W1, W2, W3, b))\n",
    "\n",
    "    W1 = W1 - lr * grad_results[0]\n",
    "    W2 = W2 - lr * grad_results[1]\n",
    "    W3 = W3 - lr * grad_results[2]\n",
    "    b = b - lr * grad_results[3]\n",
    "\n",
    "    if epoch % 1000 == 0:\n",
    "        print(f'epoch: {epoch}/{epochs}, cost: {cost(W1, W2, W3, b):.4f}\\nH(x1, x2, x3) = {W1:.4f} x1 + {W2:.4f} x2 + {W3:.4f} x3 + {b:.4f}\\n')"
   ]
  },
  {
   "cell_type": "code",
   "execution_count": null,
   "metadata": {},
   "outputs": [],
   "source": []
  }
 ],
 "metadata": {
  "kernelspec": {
   "display_name": "Python 3",
   "language": "python",
   "name": "python3"
  },
  "language_info": {
   "codemirror_mode": {
    "name": "ipython",
    "version": 3
   },
   "file_extension": ".py",
   "mimetype": "text/x-python",
   "name": "python",
   "nbconvert_exporter": "python",
   "pygments_lexer": "ipython3",
   "version": "3.11.3"
  },
  "orig_nbformat": 4
 },
 "nbformat": 4,
 "nbformat_minor": 2
}
