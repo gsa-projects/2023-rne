{
 "cells": [
  {
   "cell_type": "code",
   "execution_count": 15,
   "metadata": {
    "collapsed": true,
    "ExecuteTime": {
     "end_time": "2023-05-31T05:47:34.941324500Z",
     "start_time": "2023-05-31T05:47:34.935548600Z"
    }
   },
   "outputs": [],
   "source": [
    "import torch\n",
    "import torch.nn as nn\n",
    "import torch.nn.functional as F\n",
    "import torch.optim as optim\n",
    "import torch.utils.data as data\n",
    "from os import *\n",
    "from pathlib import *\n",
    "import numpy as np\n",
    "from PIL import Image"
   ]
  },
  {
   "cell_type": "code",
   "execution_count": 2,
   "outputs": [],
   "source": [
    "device = torch.device('cuda') if torch.cuda.is_available() else torch.device('cpu')\n",
    "__file__ = Path(getcwd())"
   ],
   "metadata": {
    "collapsed": false,
    "ExecuteTime": {
     "end_time": "2023-05-31T05:25:18.726998700Z",
     "start_time": "2023-05-31T05:25:18.725459600Z"
    }
   }
  },
  {
   "cell_type": "code",
   "execution_count": 72,
   "outputs": [
    {
     "data": {
      "text/plain": "(536, 1, 536, 559)"
     },
     "execution_count": 72,
     "metadata": {},
     "output_type": "execute_result"
    }
   ],
   "source": [
    "root = path.join(__file__.parent, 'data')\n",
    "images_path = path.join(root, \"PNGImages\")\n",
    "masks_path = path.join(root, \"PedMasks\")\n",
    "images = listdir(images_path)\n",
    "masks = listdir(masks_path)\n",
    "\n",
    "def get(idx):\n",
    "    image_path = path.join(images_path, images[idx])\n",
    "    mask_path = path.join(masks_path, masks[idx])\n",
    "\n",
    "    image = Image.open(image_path).convert(\"RGB\")\n",
    "    mask = np.array(Image.open(mask_path))\n",
    "\n",
    "    obj_ids = np.unique(mask)\n",
    "\n",
    "    return mask, obj_ids\n",
    "\n",
    "mask, ids = get(0)\n",
    "mask = mask == mask[:, None, None]\n",
    "mask.shape"
   ],
   "metadata": {
    "collapsed": false,
    "ExecuteTime": {
     "end_time": "2023-05-31T06:27:16.852992300Z",
     "start_time": "2023-05-31T06:27:16.661266Z"
    }
   }
  },
  {
   "cell_type": "code",
   "execution_count": null,
   "outputs": [],
   "source": [
    "class PennFudanDataset(data.Dataset):\n",
    "    def __init__(self, root, transforms):\n",
    "        self.root = root\n",
    "        self.transform = transforms\n",
    "\n",
    "        self.images_path = path.join(self.root, \"PNGImages\")\n",
    "        self.images = listdir(self.images_path)\n",
    "\n",
    "        self.masks_path = path.join(self.root, \"PedMasks\")\n",
    "        self.masks = listdir(self.masks_path)\n",
    "\n",
    "    def __getitem__(self, idx):\n",
    "        img_path = path.join(self.images_path, self.images[idx])\n",
    "        mask_path = path.join(self.masks_path, self.masks[idx])\n",
    "\n",
    "        img = Image.open(img_path).convert(\"RGB\")\n",
    "        mask = np.array(Image.open(mask_path))\n",
    "\n",
    "        obj_ids = np.unique(mask)[1:]   # 0번째 품번 값은 배경의 그레이스케일 값이므로 생략\n",
    "\n",
    "        mask = (mask == mask[:, None, None])\n",
    "\n",
    "        boxes = []\n",
    "        for i in range(len(obj_ids)):\n",
    "            pos = np.where(masks[i])\n",
    "            xmin = np.min(pos[1])\n",
    "            xmax = np.max(pos[1])\n",
    "            ymin = np.min(pos[0])\n",
    "            ymax = np.max(pos[0])\n",
    "\n",
    "            boxes.append([xmin, ymin, xmax, ymax])\n",
    "\n",
    "        boxes = torch.as_tensor(boxes, dtype=torch.float32)\n",
    "        labels = torch.ones((len(obj_ids)), )"
   ],
   "metadata": {
    "collapsed": false
   }
  }
 ],
 "metadata": {
  "kernelspec": {
   "display_name": "Python 3",
   "language": "python",
   "name": "python3"
  },
  "language_info": {
   "codemirror_mode": {
    "name": "ipython",
    "version": 2
   },
   "file_extension": ".py",
   "mimetype": "text/x-python",
   "name": "python",
   "nbconvert_exporter": "python",
   "pygments_lexer": "ipython2",
   "version": "2.7.6"
  }
 },
 "nbformat": 4,
 "nbformat_minor": 0
}
