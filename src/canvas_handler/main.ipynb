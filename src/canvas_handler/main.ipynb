{
 "cells": [
  {
   "cell_type": "code",
   "execution_count": 1,
   "metadata": {
    "ExecuteTime": {
     "end_time": "2023-09-06T08:55:16.729270800Z",
     "start_time": "2023-09-06T08:55:10.915504700Z"
    }
   },
   "outputs": [],
   "source": [
    "from PIL import Image\n",
    "import matplotlib.pyplot as plt\n",
    "import random\n",
    "import numpy as np\n",
    "import pandas as pd\n",
    "import torch\n",
    "from torch.utils.data import DataLoader, Dataset"
   ]
  },
  {
   "cell_type": "code",
   "execution_count": 2,
   "metadata": {
    "ExecuteTime": {
     "end_time": "2023-09-06T08:55:16.731977300Z",
     "start_time": "2023-09-06T08:55:16.720845200Z"
    }
   },
   "outputs": [],
   "source": [
    "device = torch.device(\"cuda\" if torch.cuda.is_available() else \"cpu\")"
   ]
  },
  {
   "cell_type": "code",
   "execution_count": 3,
   "metadata": {
    "ExecuteTime": {
     "end_time": "2023-09-06T08:55:16.765070300Z",
     "start_time": "2023-09-06T08:55:16.731977300Z"
    }
   },
   "outputs": [],
   "source": [
    "class MNISTDataset(Dataset):\n",
    "    def __init__(self, dataset_path: str):\n",
    "        df = pd.read_csv(dataset_path)\n",
    "\n",
    "        self.X = torch.Tensor(df.drop(columns=['label']).values).reshape((-1, 1, 28, 28)).to(device)\n",
    "        self.Y = torch.LongTensor(df['label']).to(device)\n",
    "\n",
    "    def __len__(self):\n",
    "        return len(self.X)\n",
    "\n",
    "    def __getitem__(self, idx) -> tuple:\n",
    "        return self.X[idx], self.Y[idx].item()\n",
    "\n",
    "    @property\n",
    "    def shape(self):\n",
    "        return self.X.shape, self.Y.shape\n",
    "\n",
    "    @property\n",
    "    def data_shape(self):\n",
    "        return self.X.shape[1:]"
   ]
  },
  {
   "cell_type": "code",
   "execution_count": 4,
   "metadata": {
    "ExecuteTime": {
     "end_time": "2023-09-06T08:55:21.385024300Z",
     "start_time": "2023-09-06T08:55:16.746934300Z"
    }
   },
   "outputs": [
    {
     "name": "stdout",
     "output_type": "stream",
     "text": [
      "(torch.Size([60000, 1, 28, 28]), torch.Size([60000]))\n",
      "torch.Size([1, 28, 28])\n",
      "(torch.Size([10000, 1, 28, 28]), torch.Size([10000]))\n",
      "torch.Size([1, 28, 28])\n"
     ]
    }
   ],
   "source": [
    "mnist_train = MNISTDataset(\"../../data/mnist_train.csv\")\n",
    "print(mnist_train.shape)\n",
    "print(mnist_train.data_shape)\n",
    "\n",
    "mnist_test = MNISTDataset(\"../../data/mnist_test.csv\")\n",
    "print(mnist_test.shape)\n",
    "print(mnist_test.data_shape)"
   ]
  },
  {
   "cell_type": "code",
   "execution_count": 31,
   "metadata": {
    "ExecuteTime": {
     "end_time": "2023-09-06T09:19:18.497195900Z",
     "start_time": "2023-09-06T09:19:18.473115500Z"
    }
   },
   "outputs": [],
   "source": [
    "def color_reverse(ndarray: np.ndarray) -> np.ndarray:\n",
    "    return 255 - ndarray\n",
    "\n",
    "def to_image(ndarray: np.ndarray) -> Image:\n",
    "    return Image.fromarray(ndarray[0].astype(np.int16)).convert('LA')\n",
    "\n",
    "def white_to_transparent(img: Image):\n",
    "    for x in range(img.width):\n",
    "        for y in range(img.height):\n",
    "            l, a = img.getpixel((x, y))\n",
    "            \n",
    "            if l == 255:\n",
    "                img.putpixel((x, y), (255, 0))\n",
    "    \n",
    "    return img\n",
    "\n",
    "def paste(canvas: Image, *images: tuple[Image, tuple[int, int]]):\n",
    "    for image, (pos_x, pos_y) in images:\n",
    "        for x in range(pos_x, pos_x + image.width):\n",
    "            for y in range(pos_y, pos_y + image.height):\n",
    "                c_l, c_a = canvas.getpixel((x, y))\n",
    "                l, a = image.getpixel((x - pos_x, y - pos_y))\n",
    "                \n",
    "                if a != 0:  # if not transparent\n",
    "                    canvas.putpixel((x, y), (l, a))\n",
    "                "
   ]
  },
  {
   "cell_type": "code",
   "execution_count": 47,
   "outputs": [],
   "source": [
    "count = 3\n",
    "samples = mnist_train.X[:count].numpy()\n",
    "height, width = samples[0].shape[1:]\n",
    "\n",
    "canvas = Image.new('LA', size=(count * width, count * height), color=(255, 255))\n",
    "images = [to_image(color_reverse(sample)) for sample in samples]"
   ],
   "metadata": {
    "collapsed": false,
    "ExecuteTime": {
     "end_time": "2023-09-06T09:21:02.773303900Z",
     "start_time": "2023-09-06T09:21:02.755141400Z"
    }
   }
  },
  {
   "cell_type": "code",
   "execution_count": 48,
   "outputs": [],
   "source": [
    "image_and_pos = []\n",
    "\n",
    "for image in images:\n",
    "    image_and_pos.append((\n",
    "        white_to_transparent(image),\n",
    "\t    (random.randint(0, canvas.width - image.width), random.randint(0, canvas.height - image.height))\n",
    "    ))\n"
   ],
   "metadata": {
    "collapsed": false,
    "ExecuteTime": {
     "end_time": "2023-09-06T09:21:02.971304Z",
     "start_time": "2023-09-06T09:21:02.963597900Z"
    }
   }
  },
  {
   "cell_type": "code",
   "execution_count": 49,
   "outputs": [],
   "source": [
    "paste(canvas, *image_and_pos)\n",
    "canvas.show()"
   ],
   "metadata": {
    "collapsed": false,
    "ExecuteTime": {
     "end_time": "2023-09-06T09:21:06.765810800Z",
     "start_time": "2023-09-06T09:21:03.220734300Z"
    }
   }
  },
  {
   "cell_type": "code",
   "execution_count": null,
   "outputs": [],
   "source": [],
   "metadata": {
    "collapsed": false
   }
  }
 ],
 "metadata": {
  "kernelspec": {
   "display_name": "Python 3",
   "language": "python",
   "name": "python3"
  },
  "language_info": {
   "codemirror_mode": {
    "name": "ipython",
    "version": 3
   },
   "file_extension": ".py",
   "mimetype": "text/x-python",
   "name": "python",
   "nbconvert_exporter": "python",
   "pygments_lexer": "ipython3",
   "version": "3.11.4"
  },
  "orig_nbformat": 4
 },
 "nbformat": 4,
 "nbformat_minor": 2
}
